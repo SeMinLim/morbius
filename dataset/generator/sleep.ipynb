{
 "cells": [
  {
   "cell_type": "markdown",
   "id": "f9eba560-e86b-4eac-b2cb-7362d5daf64b",
   "metadata": {},
   "source": [
    "### Write Sleep Dataset to Binary File"
   ]
  },
  {
   "cell_type": "code",
   "execution_count": 1,
   "id": "3d0566d6-0660-4b82-8bf4-f2d3e5c6bae2",
   "metadata": {},
   "outputs": [
    {
     "name": "stdout",
     "output_type": "stream",
     "text": [
      "(569100, 1, 178)\n"
     ]
    }
   ],
   "source": [
    "import os\n",
    "import aeon\n",
    "from aeon.datasets import load_classification\n",
    "\n",
    "x, y, meta_data = load_classification(\"Sleep\", return_metadata=True)\n",
    "print(x.shape)"
   ]
  },
  {
   "cell_type": "code",
   "execution_count": 2,
   "id": "ca170845-db00-420f-a9c6-af69891185a6",
   "metadata": {},
   "outputs": [
    {
     "name": "stdout",
     "output_type": "stream",
     "text": [
      "23330816\n"
     ]
    }
   ],
   "source": [
    "data = []\n",
    "for i in range(131072):\n",
    "    for j in range(178):\n",
    "        fp = x[i][0][j]\n",
    "        data.append(fp)\n",
    "print(len(data))"
   ]
  },
  {
   "cell_type": "code",
   "execution_count": 3,
   "id": "60ea7477-6b63-47be-ac95-d5cdc2490a73",
   "metadata": {},
   "outputs": [
    {
     "name": "stdout",
     "output_type": "stream",
     "text": [
      "(131072, 178)\n"
     ]
    }
   ],
   "source": [
    "import numpy as np\n",
    "data = np.array(data, dtype=np.float32)\n",
    "data = data.reshape(-1, 178)\n",
    "print(data.shape)"
   ]
  },
  {
   "cell_type": "code",
   "execution_count": 4,
   "id": "45d6e4c6-cc0d-44ce-8226-48a4f7a904d6",
   "metadata": {},
   "outputs": [
    {
     "name": "stdout",
     "output_type": "stream",
     "text": [
      "<class 'numpy.float32'>\n"
     ]
    }
   ],
   "source": [
    "print(type(data[0][0]))"
   ]
  },
  {
   "cell_type": "code",
   "execution_count": 5,
   "id": "9ab93db6-b1cc-4075-8e3e-344d7ac9f46b",
   "metadata": {},
   "outputs": [
    {
     "name": "stdout",
     "output_type": "stream",
     "text": [
      "6.0420027\n"
     ]
    }
   ],
   "source": [
    "print(data[0][0])"
   ]
  },
  {
   "cell_type": "code",
   "execution_count": 6,
   "id": "64f96e0b-6554-4c24-aea6-10b32a40116e",
   "metadata": {},
   "outputs": [],
   "source": [
    "with open(\"sleep.bin\", \"wb\") as f:\n",
    "    f.write(bytes(data))"
   ]
  },
  {
   "cell_type": "code",
   "execution_count": 7,
   "id": "e0d650a5-de75-4997-a37d-0f2e590f401a",
   "metadata": {},
   "outputs": [],
   "source": [
    "f.close()"
   ]
  },
  {
   "cell_type": "markdown",
   "id": "52635c65-6ddb-4cd2-a6c3-1f8e409d9d6b",
   "metadata": {},
   "source": [
    "### Test"
   ]
  },
  {
   "cell_type": "code",
   "execution_count": 8,
   "id": "80f37e13-a36b-4ed2-a16a-49bf9ff40f7d",
   "metadata": {},
   "outputs": [],
   "source": [
    "import struct\n",
    "\n",
    "file = open(\"sleep.bin\", \"rb\")\n",
    "\n",
    "data = []\n",
    "while True:\n",
    "    value = file.read(4)\n",
    "    if len(value) != 4:\n",
    "        break\n",
    "    else:\n",
    "        v = struct.unpack(\"f\", value)\n",
    "        data.append(v)\n",
    "\n",
    "file.close()"
   ]
  },
  {
   "cell_type": "code",
   "execution_count": 9,
   "id": "8b4dd22d-6442-40a6-b025-ca7a23b04799",
   "metadata": {},
   "outputs": [
    {
     "name": "stdout",
     "output_type": "stream",
     "text": [
      "(131072, 178)\n"
     ]
    }
   ],
   "source": [
    "import numpy as np\n",
    "data = np.array(data, dtype=np.float32)\n",
    "data = data.reshape(-1, 178)\n",
    "print(data.shape)"
   ]
  },
  {
   "cell_type": "code",
   "execution_count": 10,
   "id": "5d87bd0d-2d1f-4148-8bb9-3184b4941543",
   "metadata": {},
   "outputs": [
    {
     "name": "stdout",
     "output_type": "stream",
     "text": [
      "6.0420027\n"
     ]
    }
   ],
   "source": [
    "print(data[0][0])"
   ]
  },
  {
   "cell_type": "code",
   "execution_count": null,
   "id": "c9fc50f6-a7e3-4289-b627-36c6e29b037f",
   "metadata": {},
   "outputs": [],
   "source": []
  }
 ],
 "metadata": {
  "kernelspec": {
   "display_name": "Python 3 (ipykernel)",
   "language": "python",
   "name": "python3"
  },
  "language_info": {
   "codemirror_mode": {
    "name": "ipython",
    "version": 3
   },
   "file_extension": ".py",
   "mimetype": "text/x-python",
   "name": "python",
   "nbconvert_exporter": "python",
   "pygments_lexer": "ipython3",
   "version": "3.11.7"
  }
 },
 "nbformat": 4,
 "nbformat_minor": 5
}
